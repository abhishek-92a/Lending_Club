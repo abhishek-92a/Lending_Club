{
 "cells": [
  {
   "cell_type": "markdown",
   "metadata": {},
   "source": [
    "## Lending Club - EDA"
   ]
  },
  {
   "cell_type": "code",
   "execution_count": 97,
   "metadata": {},
   "outputs": [],
   "source": [
    "# Libraries Imports\n",
    "import pandas as pd"
   ]
  },
  {
   "cell_type": "code",
   "execution_count": 98,
   "metadata": {},
   "outputs": [
    {
     "name": "stderr",
     "output_type": "stream",
     "text": [
      "C:\\Users\\lvinjamuri\\AppData\\Local\\Temp\\ipykernel_2948\\322132611.py:2: DtypeWarning: Columns (47) have mixed types. Specify dtype option on import or set low_memory=False.\n",
      "  loan_data = pd.read_csv(\"/Users/lvinjamuri/Desktop/AI- ML/Lending Club/loan/loan.csv\")\n"
     ]
    }
   ],
   "source": [
    "# Data Imports\n",
    "loan_data = pd.read_csv(\"/Users/lvinjamuri/Desktop/AI- ML/Lending Club/loan/loan.csv\")"
   ]
  },
  {
   "cell_type": "code",
   "execution_count": 99,
   "metadata": {},
   "outputs": [],
   "source": [
    "# Set to display all the columns by changing the Pandas display option\n",
    "pd.set_option(\"display.max_columns\", 111)\n",
    "\n",
    "# the number of missing items of all columns\n",
    "pd.set_option(\"display.max_rows\", None)"
   ]
  },
  {
   "cell_type": "code",
   "execution_count": 100,
   "metadata": {},
   "outputs": [],
   "source": [
    "\n",
    "#drop all the columns (axis=1)\n",
    "columns_to_drop = ['mths_since_last_delinq',\n",
    "                   'mths_since_last_record', \n",
    "                   'next_pymnt_d', \n",
    "                   'num_bc_sats',\n",
    "                   'mths_since_recent_bc',\n",
    "                   'mths_since_recent_bc_dlq',\n",
    "                   'mths_since_recent_inq',\n",
    "                   'mths_since_recent_revol_delinq',\n",
    "                   'num_accts_ever_120_pd',\n",
    "                   'num_actv_bc_tl',\n",
    "                   'num_actv_rev_tl',\n",
    "                   'mort_acc',\n",
    "                   'num_bc_tl',\n",
    "                   'num_tl_op_past_12m',\n",
    "                   'num_op_rev_tl',\n",
    "                   'num_rev_accts',\n",
    "                   'num_rev_tl_bal_gt_0',\n",
    "                   'num_sats',\n",
    "                   'num_tl_120dpd_2m',\n",
    "                   'num_tl_30dpd',\n",
    "                   'num_tl_90g_dpd_24m',\n",
    "                   'pct_tl_nvr_dlq',\n",
    "                   'percent_bc_gt_75',\n",
    "                   'tot_hi_cred_lim',\n",
    "                   'total_bal_ex_mort',\n",
    "                   'mo_sin_rcnt_tl',\n",
    "                   'num_il_tl',\n",
    "                   'mo_sin_rcnt_rev_tl_op',\n",
    "                   'verification_status_joint',\n",
    "                   'mo_sin_old_il_acct',\n",
    "                   'mths_since_last_major_derog',\n",
    "                   'annual_inc_joint',\n",
    "                   'dti_joint',\n",
    "                   'total_bc_limit',\n",
    "                   'tot_coll_amt',\n",
    "                   'tot_cur_bal',\n",
    "                   'open_acc_6m',\n",
    "                   'open_il_6m',\n",
    "                   'open_il_12m',\n",
    "                   'open_il_24m',\n",
    "                   'mths_since_rcnt_il',\n",
    "                   'total_bal_il',\n",
    "                   'il_util',\n",
    "                   'open_rv_12m',\n",
    "                   'open_rv_24m',\n",
    "                   'max_bal_bc',\n",
    "                   'all_util',\n",
    "                   'total_rev_hi_lim',\n",
    "                   'inq_fi',\n",
    "                   'total_cu_tl',\n",
    "                   'inq_last_12m',\n",
    "                   'acc_open_past_24mths',\n",
    "                   'avg_cur_bal',\n",
    "                   'bc_open_to_buy',\n",
    "                   'bc_util',\n",
    "                   'mo_sin_old_rev_tl_op',\n",
    "                   'total_il_high_credit_limit',\n",
    "                   'id',\n",
    "                   'url',\n",
    "                   'member_id',\n",
    "                   'zip_code',\n",
    "                   'emp_title',\n",
    "                   'desc',\n",
    "                   'purpose',\n",
    "                   'initial_list_status',\n",
    "                   'policy_code',\n",
    "                   'delinq_amnt',\n",
    "                   'tax_liens',\n",
    "                   'chargeoff_within_12_mths',\n",
    "                   'acc_now_delinq',\n",
    "                   'collections_12_mths_ex_med',\n",
    "                   'title',\n",
    "                   'out_prncp',\n",
    "                   'collection_recovery_fee',\n",
    "                   'sub_grade',\n",
    "                   'pymnt_plan',\n",
    "                   'earliest_cr_line',\n",
    "                   'application_type',\n",
    "                   'last_credit_pull_d',\n",
    "                   'addr_state',\n",
    "                   'funded_amnt',\n",
    "                   'funded_amnt_inv',\n",
    "                   'delinq_2yrs',\n",
    "                   'inq_last_6mths',\n",
    "                   'open_acc',\n",
    "                   'revol_bal',\n",
    "                   'out_prncp_inv',\n",
    "                   'total_rec_late_fee',\t\n",
    "                   'recoveries',\n",
    "                   'last_pymnt_d',\n",
    "                   'last_pymnt_amnt',  \n",
    "                   'total_pymnt_inv',\n",
    "                   'total_acc',\n",
    "                   'total_pymnt',\n",
    "                   'total_rec_prncp',\n",
    "                   'total_rec_int'\n",
    "\n",
    "                   ]\n",
    "final_loan_data  = loan_data.drop(columns_to_drop,axis=1)\n"
   ]
  },
  {
   "cell_type": "code",
   "execution_count": 101,
   "metadata": {},
   "outputs": [
    {
     "data": {
      "text/plain": [
       "loan_amnt               0.000000\n",
       "term                    0.000000\n",
       "int_rate                0.000000\n",
       "installment             0.000000\n",
       "grade                   0.000000\n",
       "emp_length              2.706650\n",
       "home_ownership          0.000000\n",
       "annual_inc              0.000000\n",
       "verification_status     0.000000\n",
       "issue_d                 0.000000\n",
       "loan_status             0.000000\n",
       "dti                     0.000000\n",
       "pub_rec                 0.000000\n",
       "revol_util              0.125891\n",
       "pub_rec_bankruptcies    1.754916\n",
       "dtype: float64"
      ]
     },
     "execution_count": 101,
     "metadata": {},
     "output_type": "execute_result"
    }
   ],
   "source": [
    "(final_loan_data.isna().sum()*100)/len(final_loan_data)  # % of na values in columns"
   ]
  },
  {
   "cell_type": "code",
   "execution_count": 102,
   "metadata": {},
   "outputs": [],
   "source": [
    "# Drop all the na values in \"emp_length\" , \"pub_rec_bankruptcies\" and \"revol_util\"\n",
    "\n",
    "final_loan_data = final_loan_data[final_loan_data['emp_length'].notna()]  \n",
    "final_loan_data = final_loan_data[final_loan_data['revol_util'].notna()]\n",
    "final_loan_data = final_loan_data[final_loan_data['pub_rec_bankruptcies'].notna()]"
   ]
  },
  {
   "cell_type": "code",
   "execution_count": 103,
   "metadata": {},
   "outputs": [
    {
     "data": {
      "text/plain": [
       "loan_amnt               0.0\n",
       "term                    0.0\n",
       "int_rate                0.0\n",
       "installment             0.0\n",
       "grade                   0.0\n",
       "emp_length              0.0\n",
       "home_ownership          0.0\n",
       "annual_inc              0.0\n",
       "verification_status     0.0\n",
       "issue_d                 0.0\n",
       "loan_status             0.0\n",
       "dti                     0.0\n",
       "pub_rec                 0.0\n",
       "revol_util              0.0\n",
       "pub_rec_bankruptcies    0.0\n",
       "dtype: float64"
      ]
     },
     "execution_count": 103,
     "metadata": {},
     "output_type": "execute_result"
    }
   ],
   "source": [
    "(final_loan_data.isna().sum()*100)/len(final_loan_data)  # % of na values in columns"
   ]
  },
  {
   "cell_type": "code",
   "execution_count": 104,
   "metadata": {},
   "outputs": [
    {
     "data": {
      "text/plain": [
       "(36800, 15)"
      ]
     },
     "execution_count": 104,
     "metadata": {},
     "output_type": "execute_result"
    }
   ],
   "source": [
    "current_loan_status = final_loan_data[\"loan_status\"] !=\"Current\"\n",
    "final_loan_data = final_loan_data[current_loan_status]\n",
    "final_loan_data.shape"
   ]
  },
  {
   "cell_type": "code",
   "execution_count": 105,
   "metadata": {},
   "outputs": [],
   "source": [
    "# 'emp_length' remove -  >,< years\n",
    "final_loan_data['emp_length'] = final_loan_data['emp_length'].replace('(\\\\d+)\\\\s*years', r'\\1', regex=True)\n",
    "\n",
    "final_loan_data['emp_length'] = final_loan_data['emp_length'].str.replace(r'\\D+', '')\n"
   ]
  },
  {
   "cell_type": "code",
   "execution_count": 107,
   "metadata": {},
   "outputs": [],
   "source": [
    "# 'issue_d' conversion into date format\n",
    "final_loan_data['issue_d']  = pd.to_datetime(final_loan_data['issue_d'], format='%b-%y')"
   ]
  },
  {
   "cell_type": "code",
   "execution_count": 108,
   "metadata": {},
   "outputs": [],
   "source": [
    "# 'term' column remove 'months \n",
    "# Convert into years\n",
    "final_loan_data['term'] = final_loan_data['term'].replace('(\\\\d+)\\\\s*months',r'\\1', regex=True ).astype(int)\n",
    "final_loan_data['term'] = final_loan_data['term']/12"
   ]
  },
  {
   "cell_type": "code",
   "execution_count": 109,
   "metadata": {},
   "outputs": [],
   "source": [
    "# int_rate column remove '%' and convert into float\n",
    "final_loan_data['int_rate'] = final_loan_data['int_rate'].replace('(\\\\d)\\\\s*%',r'\\1', regex=True).astype(float)"
   ]
  },
  {
   "cell_type": "code",
   "execution_count": 110,
   "metadata": {},
   "outputs": [
    {
     "data": {
      "text/html": [
       "<div>\n",
       "<style scoped>\n",
       "    .dataframe tbody tr th:only-of-type {\n",
       "        vertical-align: middle;\n",
       "    }\n",
       "\n",
       "    .dataframe tbody tr th {\n",
       "        vertical-align: top;\n",
       "    }\n",
       "\n",
       "    .dataframe thead th {\n",
       "        text-align: right;\n",
       "    }\n",
       "</style>\n",
       "<table border=\"1\" class=\"dataframe\">\n",
       "  <thead>\n",
       "    <tr style=\"text-align: right;\">\n",
       "      <th></th>\n",
       "      <th>loan_amnt</th>\n",
       "      <th>term</th>\n",
       "      <th>int_rate</th>\n",
       "      <th>installment</th>\n",
       "      <th>grade</th>\n",
       "      <th>emp_length</th>\n",
       "      <th>home_ownership</th>\n",
       "      <th>annual_inc</th>\n",
       "      <th>verification_status</th>\n",
       "      <th>issue_d</th>\n",
       "      <th>loan_status</th>\n",
       "      <th>dti</th>\n",
       "      <th>pub_rec</th>\n",
       "      <th>revol_util</th>\n",
       "      <th>pub_rec_bankruptcies</th>\n",
       "    </tr>\n",
       "  </thead>\n",
       "  <tbody>\n",
       "    <tr>\n",
       "      <th>0</th>\n",
       "      <td>5000</td>\n",
       "      <td>3.0</td>\n",
       "      <td>10.65</td>\n",
       "      <td>162.87</td>\n",
       "      <td>B</td>\n",
       "      <td>10+ years</td>\n",
       "      <td>RENT</td>\n",
       "      <td>24000.0</td>\n",
       "      <td>Verified</td>\n",
       "      <td>2011-12-01</td>\n",
       "      <td>Fully Paid</td>\n",
       "      <td>27.65</td>\n",
       "      <td>0</td>\n",
       "      <td>83.70%</td>\n",
       "      <td>0.0</td>\n",
       "    </tr>\n",
       "    <tr>\n",
       "      <th>1</th>\n",
       "      <td>2500</td>\n",
       "      <td>5.0</td>\n",
       "      <td>15.27</td>\n",
       "      <td>59.83</td>\n",
       "      <td>C</td>\n",
       "      <td>&lt; 1 year</td>\n",
       "      <td>RENT</td>\n",
       "      <td>30000.0</td>\n",
       "      <td>Source Verified</td>\n",
       "      <td>2011-12-01</td>\n",
       "      <td>Charged Off</td>\n",
       "      <td>1.00</td>\n",
       "      <td>0</td>\n",
       "      <td>9.40%</td>\n",
       "      <td>0.0</td>\n",
       "    </tr>\n",
       "    <tr>\n",
       "      <th>2</th>\n",
       "      <td>2400</td>\n",
       "      <td>3.0</td>\n",
       "      <td>15.96</td>\n",
       "      <td>84.33</td>\n",
       "      <td>C</td>\n",
       "      <td>10+ years</td>\n",
       "      <td>RENT</td>\n",
       "      <td>12252.0</td>\n",
       "      <td>Not Verified</td>\n",
       "      <td>2011-12-01</td>\n",
       "      <td>Fully Paid</td>\n",
       "      <td>8.72</td>\n",
       "      <td>0</td>\n",
       "      <td>98.50%</td>\n",
       "      <td>0.0</td>\n",
       "    </tr>\n",
       "    <tr>\n",
       "      <th>3</th>\n",
       "      <td>10000</td>\n",
       "      <td>3.0</td>\n",
       "      <td>13.49</td>\n",
       "      <td>339.31</td>\n",
       "      <td>C</td>\n",
       "      <td>10+ years</td>\n",
       "      <td>RENT</td>\n",
       "      <td>49200.0</td>\n",
       "      <td>Source Verified</td>\n",
       "      <td>2011-12-01</td>\n",
       "      <td>Fully Paid</td>\n",
       "      <td>20.00</td>\n",
       "      <td>0</td>\n",
       "      <td>21%</td>\n",
       "      <td>0.0</td>\n",
       "    </tr>\n",
       "    <tr>\n",
       "      <th>5</th>\n",
       "      <td>5000</td>\n",
       "      <td>3.0</td>\n",
       "      <td>7.90</td>\n",
       "      <td>156.46</td>\n",
       "      <td>A</td>\n",
       "      <td>3</td>\n",
       "      <td>RENT</td>\n",
       "      <td>36000.0</td>\n",
       "      <td>Source Verified</td>\n",
       "      <td>2011-12-01</td>\n",
       "      <td>Fully Paid</td>\n",
       "      <td>11.20</td>\n",
       "      <td>0</td>\n",
       "      <td>28.30%</td>\n",
       "      <td>0.0</td>\n",
       "    </tr>\n",
       "  </tbody>\n",
       "</table>\n",
       "</div>"
      ],
      "text/plain": [
       "   loan_amnt  term  int_rate  installment grade emp_length home_ownership  \\\n",
       "0       5000   3.0     10.65       162.87     B  10+ years           RENT   \n",
       "1       2500   5.0     15.27        59.83     C   < 1 year           RENT   \n",
       "2       2400   3.0     15.96        84.33     C  10+ years           RENT   \n",
       "3      10000   3.0     13.49       339.31     C  10+ years           RENT   \n",
       "5       5000   3.0      7.90       156.46     A          3           RENT   \n",
       "\n",
       "   annual_inc verification_status    issue_d  loan_status    dti  pub_rec  \\\n",
       "0     24000.0            Verified 2011-12-01   Fully Paid  27.65        0   \n",
       "1     30000.0     Source Verified 2011-12-01  Charged Off   1.00        0   \n",
       "2     12252.0        Not Verified 2011-12-01   Fully Paid   8.72        0   \n",
       "3     49200.0     Source Verified 2011-12-01   Fully Paid  20.00        0   \n",
       "5     36000.0     Source Verified 2011-12-01   Fully Paid  11.20        0   \n",
       "\n",
       "  revol_util  pub_rec_bankruptcies  \n",
       "0     83.70%                   0.0  \n",
       "1      9.40%                   0.0  \n",
       "2     98.50%                   0.0  \n",
       "3        21%                   0.0  \n",
       "5     28.30%                   0.0  "
      ]
     },
     "execution_count": 110,
     "metadata": {},
     "output_type": "execute_result"
    }
   ],
   "source": [
    "# Working dataframe\n",
    "final_loan_data.head(5)"
   ]
  },
  {
   "cell_type": "code",
   "execution_count": 111,
   "metadata": {},
   "outputs": [
    {
     "data": {
      "text/plain": [
       "(36800, 15)"
      ]
     },
     "execution_count": 111,
     "metadata": {},
     "output_type": "execute_result"
    }
   ],
   "source": [
    "final_loan_data.shape"
   ]
  },
  {
   "cell_type": "code",
   "execution_count": 113,
   "metadata": {},
   "outputs": [
    {
     "data": {
      "text/plain": [
       "loan_amnt               0\n",
       "term                    0\n",
       "int_rate                0\n",
       "installment             0\n",
       "grade                   0\n",
       "emp_length              0\n",
       "home_ownership          0\n",
       "annual_inc              0\n",
       "verification_status     0\n",
       "issue_d                 0\n",
       "loan_status             0\n",
       "dti                     0\n",
       "pub_rec                 0\n",
       "revol_util              0\n",
       "pub_rec_bankruptcies    0\n",
       "dtype: int64"
      ]
     },
     "execution_count": 113,
     "metadata": {},
     "output_type": "execute_result"
    }
   ],
   "source": [
    "final_loan_data.isnull().sum()"
   ]
  },
  {
   "cell_type": "code",
   "execution_count": 114,
   "metadata": {},
   "outputs": [
    {
     "data": {
      "text/plain": [
       "loan_amnt                        int64\n",
       "term                           float64\n",
       "int_rate                       float64\n",
       "installment                    float64\n",
       "grade                           object\n",
       "emp_length                      object\n",
       "home_ownership                  object\n",
       "annual_inc                     float64\n",
       "verification_status             object\n",
       "issue_d                 datetime64[ns]\n",
       "loan_status                     object\n",
       "dti                            float64\n",
       "pub_rec                          int64\n",
       "revol_util                      object\n",
       "pub_rec_bankruptcies           float64\n",
       "dtype: object"
      ]
     },
     "execution_count": 114,
     "metadata": {},
     "output_type": "execute_result"
    }
   ],
   "source": [
    "final_loan_data.dtypes"
   ]
  },
  {
   "cell_type": "code",
   "execution_count": 115,
   "metadata": {},
   "outputs": [
    {
     "data": {
      "text/plain": [
       "loan_status  home_ownership\n",
       "Fully Paid   RENT              15000\n",
       "             MORTGAGE          14138\n",
       "Charged Off  RENT               2667\n",
       "Fully Paid   OWN                2318\n",
       "Charged Off  MORTGAGE           2196\n",
       "             OWN                 385\n",
       "Fully Paid   OTHER                78\n",
       "Charged Off  OTHER                18\n",
       "Name: count, dtype: int64"
      ]
     },
     "execution_count": 115,
     "metadata": {},
     "output_type": "execute_result"
    }
   ],
   "source": [
    "final_loan_data[['loan_status','home_ownership']].value_counts()\n"
   ]
  },
  {
   "cell_type": "code",
   "execution_count": 116,
   "metadata": {},
   "outputs": [
    {
     "data": {
      "text/html": [
       "<div>\n",
       "<style scoped>\n",
       "    .dataframe tbody tr th:only-of-type {\n",
       "        vertical-align: middle;\n",
       "    }\n",
       "\n",
       "    .dataframe tbody tr th {\n",
       "        vertical-align: top;\n",
       "    }\n",
       "\n",
       "    .dataframe thead th {\n",
       "        text-align: right;\n",
       "    }\n",
       "</style>\n",
       "<table border=\"1\" class=\"dataframe\">\n",
       "  <thead>\n",
       "    <tr style=\"text-align: right;\">\n",
       "      <th></th>\n",
       "      <th>term</th>\n",
       "      <th>int_rate</th>\n",
       "      <th>dti</th>\n",
       "      <th>annual_inc</th>\n",
       "    </tr>\n",
       "    <tr>\n",
       "      <th>loan_status</th>\n",
       "      <th></th>\n",
       "      <th></th>\n",
       "      <th></th>\n",
       "      <th></th>\n",
       "    </tr>\n",
       "  </thead>\n",
       "  <tbody>\n",
       "    <tr>\n",
       "      <th>Charged Off</th>\n",
       "      <td>3.0</td>\n",
       "      <td>13.79</td>\n",
       "      <td>14.335</td>\n",
       "      <td>54000.0</td>\n",
       "    </tr>\n",
       "    <tr>\n",
       "      <th>Fully Paid</th>\n",
       "      <td>3.0</td>\n",
       "      <td>11.49</td>\n",
       "      <td>13.260</td>\n",
       "      <td>60000.0</td>\n",
       "    </tr>\n",
       "  </tbody>\n",
       "</table>\n",
       "</div>"
      ],
      "text/plain": [
       "             term  int_rate     dti  annual_inc\n",
       "loan_status                                    \n",
       "Charged Off   3.0     13.79  14.335     54000.0\n",
       "Fully Paid    3.0     11.49  13.260     60000.0"
      ]
     },
     "execution_count": 116,
     "metadata": {},
     "output_type": "execute_result"
    }
   ],
   "source": [
    "final_loan_data.groupby(['loan_status'])[['term','int_rate','dti','annual_inc',]].median()"
   ]
  },
  {
   "cell_type": "code",
   "execution_count": 117,
   "metadata": {},
   "outputs": [
    {
     "data": {
      "text/html": [
       "<div>\n",
       "<style scoped>\n",
       "    .dataframe tbody tr th:only-of-type {\n",
       "        vertical-align: middle;\n",
       "    }\n",
       "\n",
       "    .dataframe tbody tr th {\n",
       "        vertical-align: top;\n",
       "    }\n",
       "\n",
       "    .dataframe thead th {\n",
       "        text-align: right;\n",
       "    }\n",
       "</style>\n",
       "<table border=\"1\" class=\"dataframe\">\n",
       "  <thead>\n",
       "    <tr style=\"text-align: right;\">\n",
       "      <th></th>\n",
       "      <th>loan_status</th>\n",
       "    </tr>\n",
       "    <tr>\n",
       "      <th>home_ownership</th>\n",
       "      <th></th>\n",
       "    </tr>\n",
       "  </thead>\n",
       "  <tbody>\n",
       "    <tr>\n",
       "      <th>MORTGAGE</th>\n",
       "      <td>16334</td>\n",
       "    </tr>\n",
       "    <tr>\n",
       "      <th>OTHER</th>\n",
       "      <td>96</td>\n",
       "    </tr>\n",
       "    <tr>\n",
       "      <th>OWN</th>\n",
       "      <td>2703</td>\n",
       "    </tr>\n",
       "    <tr>\n",
       "      <th>RENT</th>\n",
       "      <td>17667</td>\n",
       "    </tr>\n",
       "  </tbody>\n",
       "</table>\n",
       "</div>"
      ],
      "text/plain": [
       "                loan_status\n",
       "home_ownership             \n",
       "MORTGAGE              16334\n",
       "OTHER                    96\n",
       "OWN                    2703\n",
       "RENT                  17667"
      ]
     },
     "execution_count": 117,
     "metadata": {},
     "output_type": "execute_result"
    }
   ],
   "source": [
    "final_loan_data.groupby(['home_ownership'])[['loan_status']].count()"
   ]
  },
  {
   "cell_type": "code",
   "execution_count": 118,
   "metadata": {},
   "outputs": [
    {
     "data": {
      "text/html": [
       "<div>\n",
       "<style scoped>\n",
       "    .dataframe tbody tr th:only-of-type {\n",
       "        vertical-align: middle;\n",
       "    }\n",
       "\n",
       "    .dataframe tbody tr th {\n",
       "        vertical-align: top;\n",
       "    }\n",
       "\n",
       "    .dataframe thead th {\n",
       "        text-align: right;\n",
       "    }\n",
       "</style>\n",
       "<table border=\"1\" class=\"dataframe\">\n",
       "  <thead>\n",
       "    <tr style=\"text-align: right;\">\n",
       "      <th></th>\n",
       "      <th>loan_status</th>\n",
       "      <th>home_ownership</th>\n",
       "      <th>counts</th>\n",
       "    </tr>\n",
       "  </thead>\n",
       "  <tbody>\n",
       "    <tr>\n",
       "      <th>0</th>\n",
       "      <td>Charged Off</td>\n",
       "      <td>MORTGAGE</td>\n",
       "      <td>2196</td>\n",
       "    </tr>\n",
       "    <tr>\n",
       "      <th>1</th>\n",
       "      <td>Charged Off</td>\n",
       "      <td>OTHER</td>\n",
       "      <td>18</td>\n",
       "    </tr>\n",
       "    <tr>\n",
       "      <th>2</th>\n",
       "      <td>Charged Off</td>\n",
       "      <td>OWN</td>\n",
       "      <td>385</td>\n",
       "    </tr>\n",
       "    <tr>\n",
       "      <th>3</th>\n",
       "      <td>Charged Off</td>\n",
       "      <td>RENT</td>\n",
       "      <td>2667</td>\n",
       "    </tr>\n",
       "    <tr>\n",
       "      <th>4</th>\n",
       "      <td>Fully Paid</td>\n",
       "      <td>MORTGAGE</td>\n",
       "      <td>14138</td>\n",
       "    </tr>\n",
       "    <tr>\n",
       "      <th>5</th>\n",
       "      <td>Fully Paid</td>\n",
       "      <td>OTHER</td>\n",
       "      <td>78</td>\n",
       "    </tr>\n",
       "    <tr>\n",
       "      <th>6</th>\n",
       "      <td>Fully Paid</td>\n",
       "      <td>OWN</td>\n",
       "      <td>2318</td>\n",
       "    </tr>\n",
       "    <tr>\n",
       "      <th>7</th>\n",
       "      <td>Fully Paid</td>\n",
       "      <td>RENT</td>\n",
       "      <td>15000</td>\n",
       "    </tr>\n",
       "  </tbody>\n",
       "</table>\n",
       "</div>"
      ],
      "text/plain": [
       "   loan_status home_ownership  counts\n",
       "0  Charged Off       MORTGAGE    2196\n",
       "1  Charged Off          OTHER      18\n",
       "2  Charged Off            OWN     385\n",
       "3  Charged Off           RENT    2667\n",
       "4   Fully Paid       MORTGAGE   14138\n",
       "5   Fully Paid          OTHER      78\n",
       "6   Fully Paid            OWN    2318\n",
       "7   Fully Paid           RENT   15000"
      ]
     },
     "execution_count": 118,
     "metadata": {},
     "output_type": "execute_result"
    }
   ],
   "source": [
    "final_loan_data.groupby(['loan_status','home_ownership', ]).size().reset_index(name='counts')"
   ]
  },
  {
   "cell_type": "code",
   "execution_count": 119,
   "metadata": {},
   "outputs": [
    {
     "data": {
      "text/html": [
       "<div>\n",
       "<style scoped>\n",
       "    .dataframe tbody tr th:only-of-type {\n",
       "        vertical-align: middle;\n",
       "    }\n",
       "\n",
       "    .dataframe tbody tr th {\n",
       "        vertical-align: top;\n",
       "    }\n",
       "\n",
       "    .dataframe thead th {\n",
       "        text-align: right;\n",
       "    }\n",
       "</style>\n",
       "<table border=\"1\" class=\"dataframe\">\n",
       "  <thead>\n",
       "    <tr style=\"text-align: right;\">\n",
       "      <th></th>\n",
       "      <th>loan_status</th>\n",
       "      <th>term</th>\n",
       "      <th>counts</th>\n",
       "    </tr>\n",
       "  </thead>\n",
       "  <tbody>\n",
       "    <tr>\n",
       "      <th>0</th>\n",
       "      <td>Charged Off</td>\n",
       "      <td>3.0</td>\n",
       "      <td>2943</td>\n",
       "    </tr>\n",
       "    <tr>\n",
       "      <th>1</th>\n",
       "      <td>Charged Off</td>\n",
       "      <td>5.0</td>\n",
       "      <td>2323</td>\n",
       "    </tr>\n",
       "    <tr>\n",
       "      <th>2</th>\n",
       "      <td>Fully Paid</td>\n",
       "      <td>3.0</td>\n",
       "      <td>24603</td>\n",
       "    </tr>\n",
       "    <tr>\n",
       "      <th>3</th>\n",
       "      <td>Fully Paid</td>\n",
       "      <td>5.0</td>\n",
       "      <td>6931</td>\n",
       "    </tr>\n",
       "  </tbody>\n",
       "</table>\n",
       "</div>"
      ],
      "text/plain": [
       "   loan_status  term  counts\n",
       "0  Charged Off   3.0    2943\n",
       "1  Charged Off   5.0    2323\n",
       "2   Fully Paid   3.0   24603\n",
       "3   Fully Paid   5.0    6931"
      ]
     },
     "execution_count": 119,
     "metadata": {},
     "output_type": "execute_result"
    }
   ],
   "source": [
    "final_loan_data.groupby(['loan_status','term', ]).size().reset_index(name='counts')"
   ]
  },
  {
   "cell_type": "code",
   "execution_count": 121,
   "metadata": {},
   "outputs": [
    {
     "data": {
      "text/html": [
       "<div>\n",
       "<style scoped>\n",
       "    .dataframe tbody tr th:only-of-type {\n",
       "        vertical-align: middle;\n",
       "    }\n",
       "\n",
       "    .dataframe tbody tr th {\n",
       "        vertical-align: top;\n",
       "    }\n",
       "\n",
       "    .dataframe thead th {\n",
       "        text-align: right;\n",
       "    }\n",
       "</style>\n",
       "<table border=\"1\" class=\"dataframe\">\n",
       "  <thead>\n",
       "    <tr style=\"text-align: right;\">\n",
       "      <th></th>\n",
       "      <th>loan_status</th>\n",
       "      <th>Median Intrest %</th>\n",
       "    </tr>\n",
       "  </thead>\n",
       "  <tbody>\n",
       "    <tr>\n",
       "      <th>0</th>\n",
       "      <td>Charged Off</td>\n",
       "      <td>13.79</td>\n",
       "    </tr>\n",
       "    <tr>\n",
       "      <th>1</th>\n",
       "      <td>Fully Paid</td>\n",
       "      <td>11.49</td>\n",
       "    </tr>\n",
       "  </tbody>\n",
       "</table>\n",
       "</div>"
      ],
      "text/plain": [
       "   loan_status  Median Intrest %\n",
       "0  Charged Off             13.79\n",
       "1   Fully Paid             11.49"
      ]
     },
     "execution_count": 121,
     "metadata": {},
     "output_type": "execute_result"
    }
   ],
   "source": [
    "\n",
    "final_loan_data.groupby(['loan_status', ])[\"int_rate\"].median().reset_index(name='Median Intrest %')"
   ]
  },
  {
   "cell_type": "code",
   "execution_count": 124,
   "metadata": {},
   "outputs": [
    {
     "data": {
      "text/html": [
       "<div>\n",
       "<style scoped>\n",
       "    .dataframe tbody tr th:only-of-type {\n",
       "        vertical-align: middle;\n",
       "    }\n",
       "\n",
       "    .dataframe tbody tr th {\n",
       "        vertical-align: top;\n",
       "    }\n",
       "\n",
       "    .dataframe thead th {\n",
       "        text-align: right;\n",
       "    }\n",
       "</style>\n",
       "<table border=\"1\" class=\"dataframe\">\n",
       "  <thead>\n",
       "    <tr style=\"text-align: right;\">\n",
       "      <th></th>\n",
       "      <th>loan_status</th>\n",
       "      <th>counts</th>\n",
       "    </tr>\n",
       "  </thead>\n",
       "  <tbody>\n",
       "    <tr>\n",
       "      <th>0</th>\n",
       "      <td>Charged Off</td>\n",
       "      <td>10000.0</td>\n",
       "    </tr>\n",
       "    <tr>\n",
       "      <th>1</th>\n",
       "      <td>Fully Paid</td>\n",
       "      <td>9600.0</td>\n",
       "    </tr>\n",
       "  </tbody>\n",
       "</table>\n",
       "</div>"
      ],
      "text/plain": [
       "   loan_status   counts\n",
       "0  Charged Off  10000.0\n",
       "1   Fully Paid   9600.0"
      ]
     },
     "execution_count": 124,
     "metadata": {},
     "output_type": "execute_result"
    }
   ],
   "source": [
    "\n",
    "final_loan_data.groupby(['loan_status', ])[\"loan_amnt\"].median().reset_index(name='counts')"
   ]
  },
  {
   "cell_type": "code",
   "execution_count": 125,
   "metadata": {},
   "outputs": [
    {
     "data": {
      "image/png": "[encoded data removed]",
      "text/plain": [
       "<Figure size 640x480 with 1 Axes>"
      ]
     },
     "metadata": {},
     "output_type": "display_data"
    },
    {
     "name": "stdout",
     "output_type": "stream",
     "text": [
      "Median salary for loan applicants Rs: 10000.0\n"
     ]
    }
   ],
   "source": [
    "import matplotlib.pyplot as plot\n",
    "import seaborn as sea\n",
    "\n",
    "\n",
    "plot.boxplot(final_loan_data['loan_amnt'])\n",
    "plot.show()\n",
    "print(\"Median salary for loan applicants Rs:\", final_loan_data['loan_amnt'].median())\n"
   ]
  },
  {
   "cell_type": "code",
   "execution_count": 126,
   "metadata": {},
   "outputs": [],
   "source": [
    "# Univarients function\n",
    "def plot_digram(df, column):\n",
    "    p = plot.subplots(1,2)\n",
    "    sea.displot(df.loc[df[column].notnull(), column])\n",
    "    #sea.boxplot(x=column, data=df, ax=p[1])\n",
    "    p[0].set_xlabel(final_loan_data[column])\n",
    "    p[1].set_xlabel(final_loan_data[column])\n",
    "    plot.tight_layout()\n",
    "    plot.show()"
   ]
  },
  {
   "cell_type": "markdown",
   "metadata": {},
   "source": [
    "----------------------------------------------------------------------------------------------------------------------------"
   ]
  },
  {
   "cell_type": "markdown",
   "metadata": {},
   "source": [
    "#### Uni Variate Analysis"
   ]
  },
  {
   "cell_type": "markdown",
   "metadata": {},
   "source": [
    "- Loan Amount"
   ]
  },
  {
   "cell_type": "code",
   "execution_count": 127,
   "metadata": {},
   "outputs": [
    {
     "name": "stdout",
     "output_type": "stream",
     "text": [
      "1. Median loan amount: 10000.0\n",
      "2. Largest loan amount: 35000\n",
      "3. Smallest loan amount: 500\n"
     ]
    },
    {
     "data": {
      "image/png": "[encoded data removed]",
      "text/plain": [
       "<Figure size 640x480 with 1 Axes>"
      ]
     },
     "metadata": {},
     "output_type": "display_data"
    }
   ],
   "source": [
    "# Loan Amount\n",
    "\n",
    "final_loan_data['loan_amnt'].plot.box()\n",
    "print(\"1. Median loan amount:\",final_loan_data['loan_amnt'].median())\n",
    "print(\"2. Largest loan amount:\",final_loan_data['loan_amnt'].max())\n",
    "print(\"3. Smallest loan amount:\",final_loan_data['loan_amnt'].min())"
   ]
  },
  {
   "cell_type": "markdown",
   "metadata": {},
   "source": [
    "-  Intrest rate"
   ]
  },
  {
   "cell_type": "code",
   "execution_count": 128,
   "metadata": {},
   "outputs": [
    {
     "name": "stdout",
     "output_type": "stream",
     "text": [
      "1. Median intrest rate: 11.83\n",
      "2. Max intrest rate: 24.4\n",
      "3. Smallest intrest rate: 5.42\n"
     ]
    },
    {
     "data": {
      "image/png": "[encoded data removed]",
      "text/plain": [
       "<Figure size 640x480 with 1 Axes>"
      ]
     },
     "metadata": {},
     "output_type": "display_data"
    }
   ],
   "source": [
    "final_loan_data['int_rate'].plot.box()\n",
    "print(\"1. Median intrest rate:\",final_loan_data['int_rate'].median())\n",
    "print(\"2. Max intrest rate:\",final_loan_data['int_rate'].max())\n",
    "print(\"3. Smallest intrest rate:\",final_loan_data['int_rate'].min())"
   ]
  },
  {
   "cell_type": "markdown",
   "metadata": {},
   "source": [
    "#### 3. Annual Income  "
   ]
  },
  {
   "cell_type": "code",
   "execution_count": 136,
   "metadata": {},
   "outputs": [],
   "source": [
    "final_loan_data = final_loan_data[ final_loan_data['annual_inc'] <=35000.0 ]"
   ]
  },
  {
   "cell_type": "code",
   "execution_count": 137,
   "metadata": {},
   "outputs": [
    {
     "name": "stdout",
     "output_type": "stream",
     "text": [
      "1. Median Annual income: 25000.0\n",
      "2. Max Annual income: 30000.0\n",
      "3. Smallest Annual income: 4000.0\n"
     ]
    },
    {
     "data": {
      "image/png": "[encoded data removed]",
      "text/plain": [
       "<Figure size 640x480 with 1 Axes>"
      ]
     },
     "metadata": {},
     "output_type": "display_data"
    }
   ],
   "source": [
    "final_loan_data['annual_inc'].plot.box()\n",
    "print(\"1. Median Annual income:\",final_loan_data['annual_inc'].median())\n",
    "print(\"2. Max Annual income:\",final_loan_data['annual_inc'].max())\n",
    "print(\"3. Smallest Annual income:\",final_loan_data['annual_inc'].min())"
   ]
  },
  {
   "cell_type": "code",
   "execution_count": 138,
   "metadata": {},
   "outputs": [
    {
     "data": {
      "text/plain": [
       "count     4045.0\n",
       "mean     23975.0\n",
       "std       5376.0\n",
       "min       4000.0\n",
       "25%      20400.0\n",
       "50%      25000.0\n",
       "75%      28800.0\n",
       "max      30000.0\n",
       "Name: annual_inc, dtype: float64"
      ]
     },
     "execution_count": 138,
     "metadata": {},
     "output_type": "execute_result"
    }
   ],
   "source": [
    "final_loan_data['annual_inc'].describe().round()"
   ]
  },
  {
   "cell_type": "markdown",
   "metadata": {},
   "source": [
    "- Conclusion - One customer has an annual income of 6000000 that is skewing the analysis hence dropping"
   ]
  },
  {
   "cell_type": "code",
   "execution_count": 132,
   "metadata": {},
   "outputs": [],
   "source": [
    "final_loan_data = final_loan_data[ final_loan_data['annual_inc'] !=6000000.0  ]"
   ]
  },
  {
   "cell_type": "markdown",
   "metadata": {},
   "source": [
    "---------------------------------------------BI Variate Analysis-------------------------------------------------------"
   ]
  },
  {
   "cell_type": "markdown",
   "metadata": {},
   "source": [
    "1. Annual income Vs Loan Status"
   ]
  },
  {
   "cell_type": "code",
   "execution_count": 153,
   "metadata": {},
   "outputs": [],
   "source": [
    "import seaborn as sns"
   ]
  },
  {
   "cell_type": "code",
   "execution_count": 152,
   "metadata": {},
   "outputs": [
    {
     "data": {
      "text/plain": [
       "<Axes: xlabel='loan_status', ylabel='annual_inc'>"
      ]
     },
     "execution_count": 152,
     "metadata": {},
     "output_type": "execute_result"
    },
    {
     "data": {
      "image/png": "[encoded data removed]",
      "text/plain": [
       "<Figure size 640x480 with 1 Axes>"
      ]
     },
     "metadata": {},
     "output_type": "display_data"
    }
   ],
   "source": [
    "sns.boxenplot(data=final_loan_data, x='loan_status', y='annual_inc')"
   ]
  },
  {
   "cell_type": "markdown",
   "metadata": {},
   "source": [
    "- Conclusion - Majority of loan defaults are happennig in the case of applicants whose annual income < 20000\n"
   ]
  },
  {
   "cell_type": "markdown",
   "metadata": {},
   "source": [
    "--------------------------------------------------------------------------------------------"
   ]
  },
  {
   "cell_type": "markdown",
   "metadata": {},
   "source": [
    "#### We can infer that lower value loans has a higher probability of being charged off.\n",
    "#### Especially true for loan amounts between 2500 to 7500 with the average loan amount being 5000"
   ]
  },
  {
   "cell_type": "code",
   "execution_count": 149,
   "metadata": {},
   "outputs": [
    {
     "data": {
      "text/plain": [
       "<Axes: xlabel='loan_status', ylabel='loan_amnt'>"
      ]
     },
     "execution_count": 149,
     "metadata": {},
     "output_type": "execute_result"
    },
    {
     "data": {
      "image/png": "[encoded data removed]",
      "text/plain": [
       "<Figure size 640x480 with 1 Axes>"
      ]
     },
     "metadata": {},
     "output_type": "display_data"
    }
   ],
   "source": [
    "sns.boxenplot(data=final_loan_data, x='loan_status', y='loan_amnt')"
   ]
  },
  {
   "cell_type": "code",
   "execution_count": 150,
   "metadata": {},
   "outputs": [
    {
     "data": {
      "text/plain": [
       "<Axes: xlabel='loan_status', ylabel='installment'>"
      ]
     },
     "execution_count": 150,
     "metadata": {},
     "output_type": "execute_result"
    },
    {
     "data": {
      "image/png": "[encoded data removed]",
      "text/plain": [
       "<Figure size 640x480 with 1 Axes>"
      ]
     },
     "metadata": {},
     "output_type": "display_data"
    }
   ],
   "source": [
    "sns.boxenplot(data=final_loan_data, x='loan_status', y='installment')"
   ]
  },
  {
   "cell_type": "code",
   "execution_count": null,
   "metadata": {},
   "outputs": [],
   "source": []
  }
 ],
 "metadata": {
  "kernelspec": {
   "display_name": "Python 3",
   "language": "python",
   "name": "python3"
  },
  "language_info": {
   "codemirror_mode": {
    "name": "ipython",
    "version": 3
   },
   "file_extension": ".py",
   "mimetype": "text/x-python",
   "name": "python",
   "nbconvert_exporter": "python",
   "pygments_lexer": "ipython3",
   "version": "3.12.0"
  }
 },
 "nbformat": 4,
 "nbformat_minor": 2
}
