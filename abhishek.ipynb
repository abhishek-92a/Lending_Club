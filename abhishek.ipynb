{
 "cells": [
  {
   "cell_type": "markdown",
   "metadata": {},
   "source": [
    "## Lending Club Case Study"
   ]
  },
  {
   "cell_type": "markdown",
   "metadata": {},
   "source": [
    "- 1. Basic data import into python \n",
    "- 2. Configuration changes  -  MAX Columns display\n",
    "- 3. Basic data exploration -  With descibe() with Pandas\n"
   ]
  },
  {
   "cell_type": "code",
   "execution_count": 4,
   "metadata": {},
   "outputs": [],
   "source": [
    "# Libraries Imports\n",
    "import pandas as pd"
   ]
  },
  {
   "cell_type": "code",
   "execution_count": 5,
   "metadata": {},
   "outputs": [
    {
     "name": "stderr",
     "output_type": "stream",
     "text": [
      "C:\\Users\\lvinjamuri\\AppData\\Local\\Temp\\ipykernel_53536\\459410176.py:2: DtypeWarning: Columns (47) have mixed types. Specify dtype option on import or set low_memory=False.\n",
      "  loan_data = pd.read_csv(\"/Users/lvinjamuri/Desktop/AI- ML/Lending Club/loan/loan.csv\")\n"
     ]
    }
   ],
   "source": [
    "# Data Imports\n",
    "loan_data = pd.read_csv(\"/Users/lvinjamuri/Desktop/AI- ML/Lending Club/loan/loan.csv\")\n",
    "\n",
    "# Set to display all the columns by changing the Pandas display option\n",
    "pd.set_option(\"display.max_columns\", 111)\n",
    "\n",
    "# the number of missing items of all columns\n",
    "pd.set_option(\"display.max_rows\", None)"
   ]
  },
  {
   "cell_type": "code",
   "execution_count": 6,
   "metadata": {},
   "outputs": [
    {
     "data": {
      "text/plain": [
       "(39717, 111)"
      ]
     },
     "execution_count": 6,
     "metadata": {},
     "output_type": "execute_result"
    }
   ],
   "source": [
    "loan_data.shape"
   ]
  },
  {
   "cell_type": "markdown",
   "metadata": {},
   "source": [
    "### Collating all the important columns"
   ]
  },
  {
   "cell_type": "markdown",
   "metadata": {},
   "source": [
    "### Show count of sum of null items for all columns "
   ]
  },
  {
   "cell_type": "code",
   "execution_count": 7,
   "metadata": {},
   "outputs": [
    {
     "name": "stdout",
     "output_type": "stream",
     "text": [
      "count of sum of null items for all rows \n",
      "id                                    0\n",
      "earliest_cr_line                      0\n",
      "inq_last_6mths                        0\n",
      "open_acc                              0\n",
      "pub_rec                               0\n",
      "revol_bal                             0\n",
      "total_acc                             0\n",
      "initial_list_status                   0\n",
      "out_prncp                             0\n",
      "out_prncp_inv                         0\n",
      "delinq_2yrs                           0\n",
      "total_pymnt                           0\n",
      "total_rec_int                         0\n",
      "total_rec_late_fee                    0\n",
      "recoveries                            0\n",
      "collection_recovery_fee               0\n",
      "last_pymnt_amnt                       0\n",
      "policy_code                           0\n",
      "application_type                      0\n",
      "acc_now_delinq                        0\n",
      "delinq_amnt                           0\n",
      "total_pymnt_inv                       0\n",
      "dti                                   0\n",
      "total_rec_prncp                       0\n",
      "zip_code                              0\n",
      "member_id                             0\n",
      "loan_amnt                             0\n",
      "addr_state                            0\n",
      "funded_amnt_inv                       0\n",
      "term                                  0\n",
      "int_rate                              0\n",
      "installment                           0\n",
      "grade                                 0\n",
      "sub_grade                             0\n",
      "home_ownership                        0\n",
      "annual_inc                            0\n",
      "funded_amnt                           0\n",
      "issue_d                               0\n",
      "purpose                               0\n",
      "verification_status                   0\n",
      "loan_status                           0\n",
      "pymnt_plan                            0\n",
      "url                                   0\n",
      "last_credit_pull_d                    2\n",
      "title                                11\n",
      "tax_liens                            39\n",
      "revol_util                           50\n",
      "collections_12_mths_ex_med           56\n",
      "chargeoff_within_12_mths             56\n",
      "last_pymnt_d                         71\n",
      "pub_rec_bankruptcies                697\n",
      "emp_length                         1075\n",
      "emp_title                          2459\n",
      "desc                              12942\n",
      "mths_since_last_delinq            25682\n",
      "mths_since_last_record            36931\n",
      "next_pymnt_d                      38577\n",
      "num_bc_sats                       39717\n",
      "mths_since_recent_bc              39717\n",
      "mths_since_recent_bc_dlq          39717\n",
      "mths_since_recent_inq             39717\n",
      "mths_since_recent_revol_delinq    39717\n",
      "num_accts_ever_120_pd             39717\n",
      "num_actv_bc_tl                    39717\n",
      "num_actv_rev_tl                   39717\n",
      "mort_acc                          39717\n",
      "num_bc_tl                         39717\n",
      "num_tl_op_past_12m                39717\n",
      "num_op_rev_tl                     39717\n",
      "num_rev_accts                     39717\n",
      "num_rev_tl_bal_gt_0               39717\n",
      "num_sats                          39717\n",
      "num_tl_120dpd_2m                  39717\n",
      "num_tl_30dpd                      39717\n",
      "num_tl_90g_dpd_24m                39717\n",
      "pct_tl_nvr_dlq                    39717\n",
      "percent_bc_gt_75                  39717\n",
      "tot_hi_cred_lim                   39717\n",
      "total_bal_ex_mort                 39717\n",
      "mo_sin_rcnt_tl                    39717\n",
      "num_il_tl                         39717\n",
      "mo_sin_rcnt_rev_tl_op             39717\n",
      "verification_status_joint         39717\n",
      "mo_sin_old_il_acct                39717\n",
      "mths_since_last_major_derog       39717\n",
      "annual_inc_joint                  39717\n",
      "dti_joint                         39717\n",
      "total_bc_limit                    39717\n",
      "tot_coll_amt                      39717\n",
      "tot_cur_bal                       39717\n",
      "open_acc_6m                       39717\n",
      "open_il_6m                        39717\n",
      "open_il_12m                       39717\n",
      "open_il_24m                       39717\n",
      "mths_since_rcnt_il                39717\n",
      "total_bal_il                      39717\n",
      "il_util                           39717\n",
      "open_rv_12m                       39717\n",
      "open_rv_24m                       39717\n",
      "max_bal_bc                        39717\n",
      "all_util                          39717\n",
      "total_rev_hi_lim                  39717\n",
      "inq_fi                            39717\n",
      "total_cu_tl                       39717\n",
      "inq_last_12m                      39717\n",
      "acc_open_past_24mths              39717\n",
      "avg_cur_bal                       39717\n",
      "bc_open_to_buy                    39717\n",
      "bc_util                           39717\n",
      "mo_sin_old_rev_tl_op              39717\n",
      "total_il_high_credit_limit        39717\n",
      "dtype: int64\n"
     ]
    }
   ],
   "source": [
    "# Empty items in each column\n",
    "nan_count = (loan_data.isnull().sum())\n",
    "\n",
    "sorted_nan_count = nan_count.sort_values(ascending=True).rename_axis('count of sum of null items for all rows ')\n",
    "print(sorted_nan_count)"
   ]
  },
  {
   "cell_type": "markdown",
   "metadata": {},
   "source": [
    "### Dropping all the columns with more than 20000 null values\n",
    "\n",
    "Explaination -  Around 50% of these columns have nulll values makes it utable for data analysis"
   ]
  },
  {
   "cell_type": "code",
   "execution_count": 8,
   "metadata": {},
   "outputs": [],
   "source": [
    "\n",
    "#drop all the columns (axis=1)\n",
    "columns_to_drop = ['mths_since_last_delinq',\n",
    "                   'mths_since_last_record', \n",
    "                   'next_pymnt_d', \n",
    "                   'num_bc_sats',\n",
    "                   'mths_since_recent_bc',\n",
    "                   'mths_since_recent_bc_dlq',\n",
    "                   'mths_since_recent_inq',\n",
    "                   'mths_since_recent_revol_delinq',\n",
    "                   'num_accts_ever_120_pd',\n",
    "                   'num_actv_bc_tl',\n",
    "                   'num_actv_rev_tl',\n",
    "                   'mort_acc',\n",
    "                   'num_bc_tl',\n",
    "                   'num_tl_op_past_12m',\n",
    "                   'num_op_rev_tl',\n",
    "                   'num_rev_accts',\n",
    "                   'num_rev_tl_bal_gt_0',\n",
    "                   'num_sats',\n",
    "                   'num_tl_120dpd_2m',\n",
    "                   'num_tl_30dpd',\n",
    "                   'num_tl_90g_dpd_24m',\n",
    "                   'pct_tl_nvr_dlq',\n",
    "                   'percent_bc_gt_75',\n",
    "                   'tot_hi_cred_lim',\n",
    "                   'total_bal_ex_mort',\n",
    "                   'mo_sin_rcnt_tl',\n",
    "                   'num_il_tl',\n",
    "                   'mo_sin_rcnt_rev_tl_op',\n",
    "                   'verification_status_joint',\n",
    "                   'mo_sin_old_il_acct',\n",
    "                   'mths_since_last_major_derog',\n",
    "                   'annual_inc_joint',\n",
    "                   'dti_joint',\n",
    "                   'total_bc_limit',\n",
    "                   'tot_coll_amt',\n",
    "                   'tot_cur_bal',\n",
    "                   'open_acc_6m',\n",
    "                   'open_il_6m',\n",
    "                   'open_il_12m',\n",
    "                   'open_il_24m',\n",
    "                   'mths_since_rcnt_il',\n",
    "                   'total_bal_il',\n",
    "                   'il_util',\n",
    "                   'open_rv_12m',\n",
    "                   'open_rv_24m',\n",
    "                   'max_bal_bc',\n",
    "                   'all_util',\n",
    "                   'total_rev_hi_lim',\n",
    "                   'inq_fi',\n",
    "                   'total_cu_tl',\n",
    "                   'inq_last_12m',\n",
    "                   'acc_open_past_24mths',\n",
    "                   'avg_cur_bal',\n",
    "                   'bc_open_to_buy',\n",
    "                   'bc_util',\n",
    "                   'mo_sin_old_rev_tl_op',\n",
    "                   'total_il_high_credit_limit',\n",
    "                   'id',\n",
    "                   'url',\n",
    "                   'member_id',\n",
    "                   'zip_code',\n",
    "                   'emp_title',\n",
    "                   'desc',\n",
    "                   'purpose',\n",
    "                   'initial_list_status',\n",
    "                   'policy_code',\n",
    "                   'delinq_amnt',\n",
    "                   'tax_liens',\n",
    "                   'chargeoff_within_12_mths',\n",
    "                   'acc_now_delinq',\n",
    "                   'collections_12_mths_ex_med',\n",
    "                   'title',\n",
    "                   'out_prncp',\n",
    "                   'collection_recovery_fee',\n",
    "                   'sub_grade',\n",
    "                   'grade',\n",
    "                   'pymnt_plan',\n",
    "                   'earliest_cr_line',\n",
    "                   'application_type',\n",
    "                   'last_credit_pull_d',\n",
    "                   'addr_state',\n",
    "                   'funded_amnt',\n",
    "                   'funded_amnt_inv',\n",
    "                   'delinq_2yrs',\n",
    "                   'inq_last_6mths',\n",
    "                   'open_acc',\n",
    "                   'revol_bal',\n",
    "                   'out_prncp_inv',\n",
    "                   'total_rec_late_fee',\t\n",
    "                   'recoveries',\n",
    "                   'last_pymnt_d',\n",
    "                   'last_pymnt_amnt',\n",
    "                   'total_pymnt_inv'                \n",
    "                   ]\n",
    "final_loan_data  = loan_data.drop(columns_to_drop,axis=1)\n"
   ]
  },
  {
   "cell_type": "markdown",
   "metadata": {},
   "source": [
    "### Delete the records where the loan is still ongoing\n",
    "- loan_status = Current\n",
    "\n",
    "Explaination -  The outcome of the loans that are stll ongoing can not be determined."
   ]
  },
  {
   "cell_type": "code",
   "execution_count": 9,
   "metadata": {},
   "outputs": [
    {
     "data": {
      "text/plain": [
       "(38577, 18)"
      ]
     },
     "execution_count": 9,
     "metadata": {},
     "output_type": "execute_result"
    }
   ],
   "source": [
    "current_loan_status = final_loan_data[\"loan_status\"] !=\"Current\"\n",
    "final_loan_data = final_loan_data[current_loan_status]\n",
    "final_loan_data.shape"
   ]
  },
  {
   "cell_type": "code",
   "execution_count": 10,
   "metadata": {},
   "outputs": [
    {
     "data": {
      "text/plain": [
       "Number of empty cells in all columns in the working dataframe\n",
       "emp_length              1033\n",
       "pub_rec_bankruptcies     697\n",
       "revol_util                50\n",
       "dti                        0\n",
       "total_rec_int              0\n",
       "total_rec_prncp            0\n",
       "total_pymnt                0\n",
       "total_acc                  0\n",
       "pub_rec                    0\n",
       "loan_amnt                  0\n",
       "term                       0\n",
       "issue_d                    0\n",
       "verification_status        0\n",
       "annual_inc                 0\n",
       "home_ownership             0\n",
       "installment                0\n",
       "int_rate                   0\n",
       "loan_status                0\n",
       "dtype: int64"
      ]
     },
     "execution_count": 10,
     "metadata": {},
     "output_type": "execute_result"
    }
   ],
   "source": [
    "# Number of empty cells in all columns in the working dataframe\n",
    "final_loan_data.isnull().sum().sort_values(ascending=False).rename_axis('Number of empty cells in all columns in the working dataframe')"
   ]
  },
  {
   "cell_type": "markdown",
   "metadata": {},
   "source": [
    "### Columns data formatting\n",
    "- 'emp_length' remove -  >,< years\n",
    "- 'issue_d' conversion into date format\n",
    "- term' column remove 'months and convert into years\n",
    "- int_rate column remove '%' and convert into float\n"
   ]
  },
  {
   "cell_type": "code",
   "execution_count": 11,
   "metadata": {},
   "outputs": [],
   "source": [
    "# 'emp_length' remove -  >,< years\n",
    "final_loan_data['emp_length'] = final_loan_data['emp_length'].replace('(\\\\d+)\\\\s*years', r'\\1', regex=True)\n",
    "#final_loan_data['emp_length'] = final_loan_data['emp_length'].replace('1 year', 1).astype(int) # \n"
   ]
  },
  {
   "cell_type": "code",
   "execution_count": 12,
   "metadata": {},
   "outputs": [],
   "source": [
    "# 'issue_d' conversion into date format\n",
    "final_loan_data['issue_d']  = pd.to_datetime(final_loan_data['issue_d'], format='%b-%y')"
   ]
  },
  {
   "cell_type": "code",
   "execution_count": 13,
   "metadata": {},
   "outputs": [],
   "source": [
    "# 'term' column remove 'months \n",
    "# Convert into years\n",
    "final_loan_data['term'] = final_loan_data['term'].replace('(\\\\d+)\\\\s*months',r'\\1', regex=True ).astype(int)\n",
    "final_loan_data['term'] = final_loan_data['term']/12"
   ]
  },
  {
   "cell_type": "code",
   "execution_count": 14,
   "metadata": {},
   "outputs": [],
   "source": [
    "# int_rate column remove '%' and convert into float\n",
    "final_loan_data['int_rate'] = final_loan_data['int_rate'].replace('(\\\\d)\\\\s*%',r'\\1', regex=True).astype(float)"
   ]
  },
  {
   "cell_type": "markdown",
   "metadata": {},
   "source": [
    "### Summary table - Ordered Categorical Variables frequency of repetions\n"
   ]
  },
  {
   "cell_type": "markdown",
   "metadata": {},
   "source": [
    "#### Lower duration loans 3 years are more likely to default \n",
    "\n",
    "sugestion  -  Prefer candidate applications with longer durations"
   ]
  },
  {
   "cell_type": "code",
   "execution_count": 15,
   "metadata": {},
   "outputs": [
    {
     "data": {
      "text/plain": [
       "term  loan_status\n",
       "3.0   Fully Paid     25869\n",
       "5.0   Fully Paid      7081\n",
       "3.0   Charged Off     3227\n",
       "5.0   Charged Off     2400\n",
       "Name: count, dtype: int64"
      ]
     },
     "execution_count": 15,
     "metadata": {},
     "output_type": "execute_result"
    }
   ],
   "source": [
    "final_loan_data[['term','loan_status',]].value_counts()"
   ]
  },
  {
   "cell_type": "code",
   "execution_count": 27,
   "metadata": {},
   "outputs": [
    {
     "data": {
      "text/plain": [
       "<bound method Artist.have_units of <Axes: xlabel='term'>>"
      ]
     },
     "execution_count": 27,
     "metadata": {},
     "output_type": "execute_result"
    },
    {
     "data": {
      "image/png": "[encoded data removed]",
      "text/plain": [
       "<Figure size 640x480 with 1 Axes>"
      ]
     },
     "metadata": {},
     "output_type": "display_data"
    }
   ],
   "source": [
    "final_loan_data['term'].value_counts().plot.bar()"
   ]
  },
  {
   "cell_type": "code",
   "execution_count": 17,
   "metadata": {},
   "outputs": [
    {
     "data": {
      "text/plain": [
       "loan_status\n",
       "Fully Paid     32950\n",
       "Charged Off     5627\n",
       "Name: count, dtype: int64"
      ]
     },
     "execution_count": 17,
     "metadata": {},
     "output_type": "execute_result"
    }
   ],
   "source": [
    "final_loan_data[['loan_status',]].value_counts()"
   ]
  },
  {
   "cell_type": "code",
   "execution_count": 18,
   "metadata": {},
   "outputs": [
    {
     "data": {
      "text/plain": [
       "\"\\nimport matplotlib.pyplot as plt\\n\\n# create a line chart of 'loan_amount' vs 'term_years' with 'loan_status' as the color\\nplt.plot(final_loan_data['loan_amnt'], final_loan_data['term'], c=pd.factorize(final_loan_data['loan_status'])[0])\\nplt.xlabel('Loan Amount')\\nplt.ylabel('Term (Years)')\\nplt.title('Loan Amount vs Term by Loan Status')\\nplt.show()\\n\\n\""
      ]
     },
     "execution_count": 18,
     "metadata": {},
     "output_type": "execute_result"
    }
   ],
   "source": [
    "'''\n",
    "import matplotlib.pyplot as plt\n",
    "\n",
    "# create a line chart of 'loan_amount' vs 'term_years' with 'loan_status' as the color\n",
    "plt.plot(final_loan_data['loan_amnt'], final_loan_data['term'], c=pd.factorize(final_loan_data['loan_status'])[0])\n",
    "plt.xlabel('Loan Amount')\n",
    "plt.ylabel('Term (Years)')\n",
    "plt.title('Loan Amount vs Term by Loan Status')\n",
    "plt.show()\n",
    "\n",
    "'''"
   ]
  },
  {
   "cell_type": "code",
   "execution_count": 19,
   "metadata": {},
   "outputs": [
    {
     "data": {
      "text/html": [
       "<div>\n",
       "<style scoped>\n",
       "    .dataframe tbody tr th:only-of-type {\n",
       "        vertical-align: middle;\n",
       "    }\n",
       "\n",
       "    .dataframe tbody tr th {\n",
       "        vertical-align: top;\n",
       "    }\n",
       "\n",
       "    .dataframe thead th {\n",
       "        text-align: right;\n",
       "    }\n",
       "</style>\n",
       "<table border=\"1\" class=\"dataframe\">\n",
       "  <thead>\n",
       "    <tr style=\"text-align: right;\">\n",
       "      <th></th>\n",
       "      <th>loan_amnt</th>\n",
       "      <th>term</th>\n",
       "      <th>int_rate</th>\n",
       "      <th>installment</th>\n",
       "      <th>emp_length</th>\n",
       "      <th>home_ownership</th>\n",
       "      <th>annual_inc</th>\n",
       "      <th>verification_status</th>\n",
       "      <th>issue_d</th>\n",
       "      <th>loan_status</th>\n",
       "      <th>dti</th>\n",
       "      <th>pub_rec</th>\n",
       "      <th>revol_util</th>\n",
       "      <th>total_acc</th>\n",
       "      <th>total_pymnt</th>\n",
       "      <th>total_rec_prncp</th>\n",
       "      <th>total_rec_int</th>\n",
       "      <th>pub_rec_bankruptcies</th>\n",
       "    </tr>\n",
       "  </thead>\n",
       "  <tbody>\n",
       "    <tr>\n",
       "      <th>0</th>\n",
       "      <td>5000</td>\n",
       "      <td>3.0</td>\n",
       "      <td>10.65</td>\n",
       "      <td>162.87</td>\n",
       "      <td>10+ years</td>\n",
       "      <td>RENT</td>\n",
       "      <td>24000.0</td>\n",
       "      <td>Verified</td>\n",
       "      <td>2011-12-01</td>\n",
       "      <td>Fully Paid</td>\n",
       "      <td>27.65</td>\n",
       "      <td>0</td>\n",
       "      <td>83.70%</td>\n",
       "      <td>9</td>\n",
       "      <td>5863.155187</td>\n",
       "      <td>5000.00</td>\n",
       "      <td>863.16</td>\n",
       "      <td>0.0</td>\n",
       "    </tr>\n",
       "    <tr>\n",
       "      <th>1</th>\n",
       "      <td>2500</td>\n",
       "      <td>5.0</td>\n",
       "      <td>15.27</td>\n",
       "      <td>59.83</td>\n",
       "      <td>&lt; 1 year</td>\n",
       "      <td>RENT</td>\n",
       "      <td>30000.0</td>\n",
       "      <td>Source Verified</td>\n",
       "      <td>2011-12-01</td>\n",
       "      <td>Charged Off</td>\n",
       "      <td>1.00</td>\n",
       "      <td>0</td>\n",
       "      <td>9.40%</td>\n",
       "      <td>4</td>\n",
       "      <td>1008.710000</td>\n",
       "      <td>456.46</td>\n",
       "      <td>435.17</td>\n",
       "      <td>0.0</td>\n",
       "    </tr>\n",
       "    <tr>\n",
       "      <th>2</th>\n",
       "      <td>2400</td>\n",
       "      <td>3.0</td>\n",
       "      <td>15.96</td>\n",
       "      <td>84.33</td>\n",
       "      <td>10+ years</td>\n",
       "      <td>RENT</td>\n",
       "      <td>12252.0</td>\n",
       "      <td>Not Verified</td>\n",
       "      <td>2011-12-01</td>\n",
       "      <td>Fully Paid</td>\n",
       "      <td>8.72</td>\n",
       "      <td>0</td>\n",
       "      <td>98.50%</td>\n",
       "      <td>10</td>\n",
       "      <td>3005.666844</td>\n",
       "      <td>2400.00</td>\n",
       "      <td>605.67</td>\n",
       "      <td>0.0</td>\n",
       "    </tr>\n",
       "    <tr>\n",
       "      <th>3</th>\n",
       "      <td>10000</td>\n",
       "      <td>3.0</td>\n",
       "      <td>13.49</td>\n",
       "      <td>339.31</td>\n",
       "      <td>10+ years</td>\n",
       "      <td>RENT</td>\n",
       "      <td>49200.0</td>\n",
       "      <td>Source Verified</td>\n",
       "      <td>2011-12-01</td>\n",
       "      <td>Fully Paid</td>\n",
       "      <td>20.00</td>\n",
       "      <td>0</td>\n",
       "      <td>21%</td>\n",
       "      <td>37</td>\n",
       "      <td>12231.890000</td>\n",
       "      <td>10000.00</td>\n",
       "      <td>2214.92</td>\n",
       "      <td>0.0</td>\n",
       "    </tr>\n",
       "    <tr>\n",
       "      <th>5</th>\n",
       "      <td>5000</td>\n",
       "      <td>3.0</td>\n",
       "      <td>7.90</td>\n",
       "      <td>156.46</td>\n",
       "      <td>3</td>\n",
       "      <td>RENT</td>\n",
       "      <td>36000.0</td>\n",
       "      <td>Source Verified</td>\n",
       "      <td>2011-12-01</td>\n",
       "      <td>Fully Paid</td>\n",
       "      <td>11.20</td>\n",
       "      <td>0</td>\n",
       "      <td>28.30%</td>\n",
       "      <td>12</td>\n",
       "      <td>5632.210000</td>\n",
       "      <td>5000.00</td>\n",
       "      <td>632.21</td>\n",
       "      <td>0.0</td>\n",
       "    </tr>\n",
       "  </tbody>\n",
       "</table>\n",
       "</div>"
      ],
      "text/plain": [
       "   loan_amnt  term  int_rate  installment emp_length home_ownership  \\\n",
       "0       5000   3.0     10.65       162.87  10+ years           RENT   \n",
       "1       2500   5.0     15.27        59.83   < 1 year           RENT   \n",
       "2       2400   3.0     15.96        84.33  10+ years           RENT   \n",
       "3      10000   3.0     13.49       339.31  10+ years           RENT   \n",
       "5       5000   3.0      7.90       156.46          3           RENT   \n",
       "\n",
       "   annual_inc verification_status    issue_d  loan_status    dti  pub_rec  \\\n",
       "0     24000.0            Verified 2011-12-01   Fully Paid  27.65        0   \n",
       "1     30000.0     Source Verified 2011-12-01  Charged Off   1.00        0   \n",
       "2     12252.0        Not Verified 2011-12-01   Fully Paid   8.72        0   \n",
       "3     49200.0     Source Verified 2011-12-01   Fully Paid  20.00        0   \n",
       "5     36000.0     Source Verified 2011-12-01   Fully Paid  11.20        0   \n",
       "\n",
       "  revol_util  total_acc   total_pymnt  total_rec_prncp  total_rec_int  \\\n",
       "0     83.70%          9   5863.155187          5000.00         863.16   \n",
       "1      9.40%          4   1008.710000           456.46         435.17   \n",
       "2     98.50%         10   3005.666844          2400.00         605.67   \n",
       "3        21%         37  12231.890000         10000.00        2214.92   \n",
       "5     28.30%         12   5632.210000          5000.00         632.21   \n",
       "\n",
       "   pub_rec_bankruptcies  \n",
       "0                   0.0  \n",
       "1                   0.0  \n",
       "2                   0.0  \n",
       "3                   0.0  \n",
       "5                   0.0  "
      ]
     },
     "execution_count": 19,
     "metadata": {},
     "output_type": "execute_result"
    }
   ],
   "source": [
    "# Working dataframe\n",
    "final_loan_data.head(5)"
   ]
  },
  {
   "cell_type": "code",
   "execution_count": 20,
   "metadata": {},
   "outputs": [
    {
     "data": {
      "text/plain": [
       "(38577, 18)"
      ]
     },
     "execution_count": 20,
     "metadata": {},
     "output_type": "execute_result"
    }
   ],
   "source": [
    "final_loan_data.columns\n",
    "\n",
    "final_loan_data.shape"
   ]
  },
  {
   "cell_type": "code",
   "execution_count": 21,
   "metadata": {},
   "outputs": [
    {
     "data": {
      "text/plain": [
       "loan_amnt                        int64\n",
       "term                           float64\n",
       "int_rate                       float64\n",
       "installment                    float64\n",
       "emp_length                      object\n",
       "home_ownership                  object\n",
       "annual_inc                     float64\n",
       "verification_status             object\n",
       "issue_d                 datetime64[ns]\n",
       "loan_status                     object\n",
       "dti                            float64\n",
       "pub_rec                          int64\n",
       "revol_util                      object\n",
       "total_acc                        int64\n",
       "total_pymnt                    float64\n",
       "total_rec_prncp                float64\n",
       "total_rec_int                  float64\n",
       "pub_rec_bankruptcies           float64\n",
       "dtype: object"
      ]
     },
     "execution_count": 21,
     "metadata": {},
     "output_type": "execute_result"
    }
   ],
   "source": [
    "final_loan_data.dtypes"
   ]
  },
  {
   "cell_type": "markdown",
   "metadata": {},
   "source": [
    "## Basic Univariate analysis\n",
    "\n",
    "### Univariate Analysis - Ordered Catgorical Values"
   ]
  },
  {
   "cell_type": "code",
   "execution_count": 22,
   "metadata": {},
   "outputs": [],
   "source": [
    "# Corelation \n",
    "#final_loan_data"
   ]
  },
  {
   "cell_type": "markdown",
   "metadata": {},
   "source": [
    "### How does home ownership determine if the customer might default\n",
    "- Bivariate analyis\n",
    "\n",
    "### home ownership \n",
    "- Rent\n",
    "- Own\n",
    "- Mortgage\n",
    "- Other\n",
    "\n",
    "### Loan status -\n",
    "- Fully paid\n",
    "- Current\n",
    "- Charged off"
   ]
  },
  {
   "cell_type": "code",
   "execution_count": 23,
   "metadata": {},
   "outputs": [],
   "source": [
    "import matplotlib.pyplot as plt"
   ]
  },
  {
   "cell_type": "markdown",
   "metadata": {},
   "source": [
    "## Hypothesis -  There is a relation b/w loan term,loan amount and loan status"
   ]
  },
  {
   "cell_type": "code",
   "execution_count": 24,
   "metadata": {},
   "outputs": [
    {
     "data": {
      "text/plain": [
       "<matplotlib.legend.Legend at 0x20a03a0d5b0>"
      ]
     },
     "execution_count": 24,
     "metadata": {},
     "output_type": "execute_result"
    },
    {
     "data": {
      "image/png": "[encoded data removed]",
      "text/plain": [
       "<Figure size 640x480 with 1 Axes>"
      ]
     },
     "metadata": {},
     "output_type": "display_data"
    }
   ],
   "source": [
    "import matplotlib.pyplot as plt\n",
    "import numpy as np\n",
    "\n",
    "# Define the data\n",
    "loan_status = final_loan_data['loan_status']\n",
    "loan_amount = final_loan_data['loan_amnt']\n",
    "loan_term = final_loan_data['term']\n",
    "\n",
    "# Create the figure and axis objects\n",
    "fig, ax = plt.subplots()\n",
    "\n",
    "# Set the width of the bars\n",
    "width = 0.35\n",
    "\n",
    "# Create the bars\n",
    "bars2 = ax.bar(loan_status, loan_amount , width, label='Loan Duration')\n",
    "bars1 = ax.bar(loan_status, loan_term, width, bottom=loan_amount, label='Loan Term')\n",
    "\n",
    "# Add labels, title, and legend\n",
    "ax.set_ylabel('Loan Amount')\n",
    "ax.set_title('Loan Status by Loan Amount and Loan Term')\n",
    "ax.legend()\n",
    "\n",
    "# Show the plot\n",
    "#plt.show()\n"
   ]
  }
 ],
 "metadata": {
  "kernelspec": {
   "display_name": "Python 3",
   "language": "python",
   "name": "python3"
  },
  "language_info": {
   "codemirror_mode": {
    "name": "ipython",
    "version": 3
   },
   "file_extension": ".py",
   "mimetype": "text/x-python",
   "name": "python",
   "nbconvert_exporter": "python",
   "pygments_lexer": "ipython3",
   "version": "3.12.0"
  }
 },
 "nbformat": 4,
 "nbformat_minor": 2
}
